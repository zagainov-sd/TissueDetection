{
  "cells": [
    {
      "cell_type": "code",
      "execution_count": null,
      "metadata": {
        "colab": {
          "base_uri": "https://localhost:8080/"
        },
        "id": "6Jsbvz1YBs-F",
        "outputId": "c82d1b4f-b65f-4fac-e953-6615a53b5174"
      },
      "outputs": [
        {
          "output_type": "stream",
          "name": "stdout",
          "text": [
            "Mounted at /content/drive\n"
          ]
        }
      ],
      "source": [
        "from google.colab import drive\n",
        "drive.mount('/content/drive')\n",
        "!unzip -qq /content/drive/MyDrive/termwork/visualization.zip"
      ]
    },
    {
      "cell_type": "code",
      "source": [
        "!unzip -qq /content/drive/MyDrive/termwork/PATH-DT-MSU.WSS1_psi.zip"
      ],
      "metadata": {
        "id": "VGRIQ-1U5dHc"
      },
      "execution_count": null,
      "outputs": []
    },
    {
      "cell_type": "code",
      "source": [
        "!unzip -qq /content/drive/MyDrive/termwork/test_01.psi.zip"
      ],
      "metadata": {
        "id": "0skaa_YQf12H"
      },
      "execution_count": null,
      "outputs": []
    },
    {
      "cell_type": "code",
      "source": [
        "!unzip -qq /content/drive/MyDrive/termwork/test_02.psi.zip"
      ],
      "metadata": {
        "id": "xXK83DNWf1y_"
      },
      "execution_count": null,
      "outputs": []
    },
    {
      "cell_type": "code",
      "source": [
        "!unzip -qq /content/drive/MyDrive/termwork/test_03.psi.zip"
      ],
      "metadata": {
        "id": "4FVv5sAjf1vH"
      },
      "execution_count": null,
      "outputs": []
    },
    {
      "cell_type": "code",
      "source": [
        "!unzip -qq /content/drive/MyDrive/termwork/test_04.psi.zip"
      ],
      "metadata": {
        "id": "rXnJUmz7f1q2"
      },
      "execution_count": null,
      "outputs": []
    },
    {
      "cell_type": "code",
      "source": [
        "!unzip -qq /content/drive/MyDrive/termwork/test_05.psi.zip"
      ],
      "metadata": {
        "id": "7ixpaQ52f00Y"
      },
      "execution_count": null,
      "outputs": []
    },
    {
      "cell_type": "code",
      "execution_count": null,
      "metadata": {
        "colab": {
          "base_uri": "https://localhost:8080/"
        },
        "id": "ymwXAt8pAiRz",
        "outputId": "390bc1a4-3541-4606-c6ce-cabdbb35183d"
      },
      "outputs": [
        {
          "output_type": "stream",
          "name": "stdout",
          "text": [
            "Processing ./visualization/psimage-0.1.0-py3-none-any.whl\n",
            "Requirement already satisfied: h5py in /usr/local/lib/python3.10/dist-packages (from psimage==0.1.0) (3.9.0)\n",
            "Requirement already satisfied: numpy in /usr/local/lib/python3.10/dist-packages (from psimage==0.1.0) (1.25.2)\n",
            "Requirement already satisfied: pillow in /usr/local/lib/python3.10/dist-packages (from psimage==0.1.0) (9.4.0)\n",
            "Requirement already satisfied: tqdm in /usr/local/lib/python3.10/dist-packages (from psimage==0.1.0) (4.66.2)\n",
            "Requirement already satisfied: shapely in /usr/local/lib/python3.10/dist-packages (from psimage==0.1.0) (2.0.3)\n",
            "Installing collected packages: psimage\n",
            "Successfully installed psimage-0.1.0\n",
            "psimage tile cache size was set up to 300 tiles\n"
          ]
        }
      ],
      "source": [
        "from pathlib import Path\n",
        "\n",
        "from PIL import Image\n",
        "!pip install visualization/psimage-0.1.0-py3-none-any.whl\n",
        "\n",
        "from psimage.image import PSImage\n",
        "from skimage import io\n",
        "import matplotlib.pyplot as plt\n",
        "import math\n",
        "import numpy as np\n",
        "\n",
        "import torch\n",
        "import torch.nn as nn\n",
        "import torch.nn.functional as F\n",
        "\n",
        "from torchvision import transforms\n",
        "from torchvision.transforms.functional import InterpolationMode as IM\n",
        "\n",
        "from tqdm import tqdm\n",
        "\n",
        "import json"
      ]
    },
    {
      "cell_type": "markdown",
      "source": [
        "# Метод"
      ],
      "metadata": {
        "id": "h_P7mUIvTBIk"
      }
    },
    {
      "cell_type": "code",
      "source": [
        "import sys\n",
        "from pathlib import Path\n",
        "import numpy as np\n",
        "import math\n",
        "import matplotlib.pyplot as plt\n",
        "\n",
        "def resize(img, target_shape=(512, 512)):\n",
        "    assert target_shape[0] == target_shape[1]\n",
        "\n",
        "\n",
        "    img = transforms.Resize(target_shape[0])(img)\n",
        "    resize_transform = transforms.Compose([\n",
        "        transforms.CenterCrop(target_shape[0]),\n",
        "    ])\n",
        "\n",
        "    return resize_transform(img)\n",
        "\n",
        "class Classifier:\n",
        "    def __init__(self, path):\n",
        "        self.path = path\n",
        "        psimage = PSImage(self.path)\n",
        "        self.layers = psimage.layout.layers\n",
        "        self.tile_s = psimage.layout.tile_s\n",
        "        numbers = list(range(len(self.layers)))\n",
        "\n",
        "        layers = [1 << i for i in numbers]\n",
        "        self.layerTOnumber = dict(zip(numbers, self.layers))\n",
        "\n",
        "        self.pyramid = []\n",
        "        for layer in self.layers:\n",
        "            height_pixels, width_pixels = psimage.layer_size(layer)\n",
        "            height, width = math.ceil(height_pixels / self.tile_s), math.ceil(width_pixels / self.tile_s)\n",
        "            tiles = np.full((height, width), -1)\n",
        "            self.pyramid.append(tiles)\n",
        "\n",
        "        self.shapes = []\n",
        "        for tiles in self.pyramid:\n",
        "            self.shapes.append(tiles.shape)\n",
        "\n",
        "        self.zero_padding()\n",
        "\n",
        "        psimage.close()\n",
        "\n",
        "    def make_classification(self, classifier):\n",
        "        classifier.eval()\n",
        "        with torch.no_grad():\n",
        "            t_dict = {\n",
        "                \"forward_input\": transforms.Compose([\n",
        "                    transforms.PILToTensor(),\n",
        "                    transforms.Lambda(lambda x: x.float().to(DEVICE)/255.0),\n",
        "                    transforms.Normalize(mean=[0.485, 0.456, 0.406],\n",
        "                                                std=[0.229, 0.224, 0.225])\n",
        "                ]),\n",
        "                \"backward_input\": transforms.Compose([\n",
        "                    transforms.Normalize(mean=[0.0, 0.0, 0.0],\n",
        "                                                std=[1./0.229, 1./0.224, 1./0.225]),\n",
        "                    transforms.Normalize(mean=[-0.485, -0.456, -0.406],\n",
        "                                                std=[1.0, 1.0, 1.0]),\n",
        "                    transforms.Lambda(lambda x: x.permute(1, 2, 0).cpu().numpy())\n",
        "                ]),\n",
        "            }\n",
        "\n",
        "            LAYER = 0\n",
        "            psimage = PSImage(self.path)\n",
        "            #tiles = self.pyramid[LAYER]\n",
        "            for y in tqdm(range(self.shapes[LAYER][0]), total=self.shapes[LAYER][0]):\n",
        "                for x in range(self.shapes[LAYER][1]):\n",
        "                    image = psimage.get_tile(self.layerTOnumber[0], y, x)\n",
        "                    new_im = resize(Image.fromarray(image), (512, 512))\n",
        "                    trans_im = t_dict['forward_input'](new_im)\n",
        "                    pred = classifier(torch.unsqueeze(trans_im, 0))\n",
        "\n",
        "                    self.pyramid[LAYER][y, x] = pred.argmax().cpu().detach().numpy()\n",
        "\n",
        "\n",
        "            psimage.close()\n",
        "\n",
        "\n",
        "\n",
        "    def zero_padding(self):\n",
        "        for layer in range(0, len(self.layers) - 1):\n",
        "            tiles = self.pyramid[layer]\n",
        "            height, width = self.shapes[layer]\n",
        "            new_tiles = np.zeros((height if height % 2 == 0 else height + 1, width if width % 2 == 0 else width + 1))\n",
        "            new_tiles[:height, :width] = tiles\n",
        "            self.pyramid[layer] = new_tiles.astype(int)\n",
        "\n",
        "    def propagate_prediction(self):\n",
        "        window_size = 2\n",
        "        for layer in range(1, len(self.layers)): #начало с перврго слоя\n",
        "            for y in range(self.shapes[layer][0]):\n",
        "                for x in range(self.shapes[layer][1]):\n",
        "                    y0, x0 = y * window_size, x * window_size\n",
        "                    y0, x1 = y * window_size, x * window_size + 1\n",
        "                    y1, x0 = y * window_size + 1, x * window_size\n",
        "                    y1, x1 = y * window_size + 1, x * window_size + 1\n",
        "                    self.pyramid[layer][y][x] = self.pyramid[layer - 1][y0][x0] | self.pyramid[layer - 1][y0][x1] | self.pyramid[layer - 1][y1][x0] | self.pyramid[layer - 1][y1][x1]\n",
        "\n",
        "        #for layer in range(0, len(self.layers)):\n",
        "        #    for y in range(self.shapes[layer][0]):\n",
        "        #        for x in range(self.shapes[layer][1]):\n",
        "        #            print(self.pyramid[layer][y, x], ' ', end=\"\", sep='')\n",
        "        #        print()\n",
        "\n",
        "\n",
        "    def get_prediction(self, z, y, x):\n",
        "        return self.pyramid[z][y, x]\n",
        "\n",
        "    def get_pair(self, z, y, x):\n",
        "        pred = self.get_prediction(z, y, x)\n",
        "\n",
        "        psimage = PSImage(self.path)\n",
        "        img = psimage.get_tile(self.layerTOnumber[z], y, x)\n",
        "        psimage.close()\n",
        "        return np.array(img), pred\n",
        "\n",
        "    def make_mask(self, layer, shape):\n",
        "        psim = PSImage(self.path)\n",
        "\n",
        "        mask = np.zeros(shape)\n",
        "\n",
        "        size_y, size_x = shape[0] // self.shapes[layer][0], shape[1] // self.shapes[layer][1]\n",
        "\n",
        "        scip_y = 0\n",
        "        size_y, size_x, last_y, last_x = self.get_size(shape, self.shapes[layer])\n",
        "\n",
        "        for y in range(self.shapes[layer][0]):\n",
        "            scip_x = 0\n",
        "            scip = 0\n",
        "            for x in range(self.shapes[layer][1]):\n",
        "                final_size_y = size_y if y < self.shapes[layer][0] - 1 else last_y\n",
        "                final_size_x = size_x if x < self.shapes[layer][1] - 1 else last_x\n",
        "                mask_part = np.full((final_size_y,final_size_x,3), self.pyramid[layer][y][x])\n",
        "\n",
        "                mask[scip_y:scip_y + mask_part.shape[0], scip_x:scip_x + mask_part.shape[1]] = self.pyramid[layer][y][x]\n",
        "                scip_x += mask_part.shape[1]\n",
        "                scip = mask_part.shape[0]\n",
        "            scip_y += scip\n",
        "\n",
        "        psim.close()\n",
        "        return mask\n",
        "\n",
        "    def get_size(self, shape, layer_shape):\n",
        "        pows = [1 << i for i in range(15) if ((1 << i) < shape[0]) and ((1 << i) < shape[1])]\n",
        "        pow1 = min(pows, key=lambda x:abs(x-shape[0]/(layer_shape[0]-1))) if layer_shape[0] != 1 else shape[0]\n",
        "        pow2 = min(pows, key=lambda x:abs(x-shape[1]/(layer_shape[1]-1))) if layer_shape[1] != 1 else shape[1]\n",
        "        return pow1, pow2, shape[0] - (layer_shape[0] - 1) * pow1, shape[1] - (layer_shape[1] - 1) * pow2\n",
        "\n",
        "    def make_json(self):\n",
        "\n",
        "        psimage = PSImage(self.path)\n",
        "        codes = []\n",
        "        for layer, tiles in psimage.layout.tiles_per_layer().items():\n",
        "        #print(psimage.get_tile(self.layerTOnumber[0], 0, 1))\n",
        "            #print(f\"Layer {layer}, tiles: {len(tiles)} ({tiles[-3:]}...)\")\n",
        "            for tile in tiles:\n",
        "                z, y, x = map(int, tile.code.split('_'))\n",
        "                if self.pyramid[int(np.log2(z))][y, x] == 0:\n",
        "                    codes.append(tile.code)\n",
        "\n",
        "        with open('_'.join(str(self.path).split('/')) + \".json\", \"w\") as file:\n",
        "            json.dump(codes, file)\n",
        "\n",
        "            #        pass\n",
        "            #print(f\"Layer {layer}, tiles: {len(tiles)} ({tiles[:3]}...)\")\n",
        "\n",
        "        #for layer in range(0, len(self.layers)):\n",
        "        #    for y in tqdm(range(self.shapes[layer][0]), total=self.shapes[layer][0]):\n",
        "        #        for x in range(self.shapes[layer][1]):\n",
        "        #            if self.get_prediction(layer, y, x):\n",
        "\n",
        "\n",
        "\n",
        "def save_mask(mask, name):\n",
        "    im1 = Image.fromarray((mask * 255).astype(np.uint8))\n",
        "\n",
        "    im2 = Image.open(\"data/out/export.jpg\")\n",
        "    blended = Image.blend(im1, im2, alpha=0.5)\n",
        "    blended.save(name)\n",
        "\n",
        "def visualize(image, label):\n",
        "    fig, ax = plt.subplots()\n",
        "    ax.imshow(image)\n",
        "    ax.set_title(f\"CLASS: {label}\")\n",
        "    plt.show()\n"
      ],
      "metadata": {
        "id": "uvnYCBHrBBIS"
      },
      "execution_count": null,
      "outputs": []
    },
    {
      "cell_type": "code",
      "source": [
        "p = Path(\"test_04.psi\")"
      ],
      "metadata": {
        "id": "VwcfwBrpqeh3"
      },
      "execution_count": null,
      "outputs": []
    },
    {
      "cell_type": "code",
      "source": [
        "model = torch.hub.load('pytorch/vision:v0.10.0', 'resnet34', weights=None)\n",
        "model.fc = nn.Linear(512, 2)\n",
        "model.load_state_dict(torch.load(\"visualization/best_model.pth\"))\n",
        "DEVICE = 'cuda' if torch.cuda.is_available() else 'cpu'\n",
        "model.to(DEVICE)\n",
        "\n",
        "Cl = Classifier(Path(p))\n",
        "Cl.make_classification(model)\n",
        "Cl.propagate_prediction()\n"
      ],
      "metadata": {
        "colab": {
          "base_uri": "https://localhost:8080/"
        },
        "id": "s8Tfi2Q5La1z",
        "outputId": "02e2323e-032e-4f52-a07a-035e380fa916"
      },
      "execution_count": null,
      "outputs": [
        {
          "output_type": "stream",
          "name": "stderr",
          "text": [
            "Using cache found in /root/.cache/torch/hub/pytorch_vision_v0.10.0\n",
            "100%|██████████| 164/164 [09:52<00:00,  3.61s/it]\n"
          ]
        }
      ]
    },
    {
      "cell_type": "code",
      "source": [
        "Cl.make_json()"
      ],
      "metadata": {
        "id": "5AX2r2mssdBv"
      },
      "execution_count": null,
      "outputs": []
    },
    {
      "cell_type": "code",
      "source": [
        "from google.colab import files\n",
        "files.download(\"/content/masks_wss2_5.zip\")"
      ],
      "metadata": {
        "id": "Q7jKe6mpVHL4",
        "colab": {
          "base_uri": "https://localhost:8080/",
          "height": 17
        },
        "outputId": "5857b4c3-29a1-4059-c854-e81dce2bbbe5"
      },
      "execution_count": null,
      "outputs": [
        {
          "output_type": "display_data",
          "data": {
            "text/plain": [
              "<IPython.core.display.Javascript object>"
            ],
            "application/javascript": [
              "\n",
              "    async function download(id, filename, size) {\n",
              "      if (!google.colab.kernel.accessAllowed) {\n",
              "        return;\n",
              "      }\n",
              "      const div = document.createElement('div');\n",
              "      const label = document.createElement('label');\n",
              "      label.textContent = `Downloading \"${filename}\": `;\n",
              "      div.appendChild(label);\n",
              "      const progress = document.createElement('progress');\n",
              "      progress.max = size;\n",
              "      div.appendChild(progress);\n",
              "      document.body.appendChild(div);\n",
              "\n",
              "      const buffers = [];\n",
              "      let downloaded = 0;\n",
              "\n",
              "      const channel = await google.colab.kernel.comms.open(id);\n",
              "      // Send a message to notify the kernel that we're ready.\n",
              "      channel.send({})\n",
              "\n",
              "      for await (const message of channel.messages) {\n",
              "        // Send a message to notify the kernel that we're ready.\n",
              "        channel.send({})\n",
              "        if (message.buffers) {\n",
              "          for (const buffer of message.buffers) {\n",
              "            buffers.push(buffer);\n",
              "            downloaded += buffer.byteLength;\n",
              "            progress.value = downloaded;\n",
              "          }\n",
              "        }\n",
              "      }\n",
              "      const blob = new Blob(buffers, {type: 'application/binary'});\n",
              "      const a = document.createElement('a');\n",
              "      a.href = window.URL.createObjectURL(blob);\n",
              "      a.download = filename;\n",
              "      div.appendChild(a);\n",
              "      a.click();\n",
              "      div.remove();\n",
              "    }\n",
              "  "
            ]
          },
          "metadata": {}
        },
        {
          "output_type": "display_data",
          "data": {
            "text/plain": [
              "<IPython.core.display.Javascript object>"
            ],
            "application/javascript": [
              "download(\"download_888e3b99-1cdf-489e-976c-f7b7126cfe71\", \"masks_wss2_5.zip\", 19754338)"
            ]
          },
          "metadata": {}
        }
      ]
    },
    {
      "cell_type": "markdown",
      "source": [
        "#Визуализация"
      ],
      "metadata": {
        "id": "ibX4Fl80S9Ry"
      }
    },
    {
      "cell_type": "code",
      "source": [
        "t_dict = {\n",
        "    \"forward_input\": transforms.Compose([\n",
        "        transforms.PILToTensor(),\n",
        "        transforms.Lambda(lambda x: x.float().to(DEVICE)/255.0),\n",
        "        transforms.Normalize(mean=[0.485, 0.456, 0.406],\n",
        "                                    std=[0.229, 0.224, 0.225])\n",
        "    ]),\n",
        "    \"backward_input\": transforms.Compose([\n",
        "        transforms.Normalize(mean=[0.0, 0.0, 0.0],\n",
        "                                    std=[1./0.229, 1./0.224, 1./0.225]),\n",
        "        transforms.Normalize(mean=[-0.485, -0.456, -0.406],\n",
        "                                    std=[1.0, 1.0, 1.0]),\n",
        "        transforms.Lambda(lambda x: x.permute(1, 2, 0).cpu().numpy())\n",
        "    ]),\n",
        "}"
      ],
      "metadata": {
        "id": "5fSaQXYzVHJm"
      },
      "execution_count": null,
      "outputs": []
    },
    {
      "cell_type": "code",
      "source": [
        "model = torch.hub.load('pytorch/vision:v0.10.0', 'resnet34', weights=None)\n",
        "model.fc = nn.Linear(512, 2)\n",
        "model.load_state_dict(torch.load(\"visualization/best_model.pth\"))\n",
        "DEVICE = 'cuda' if torch.cuda.is_available() else 'cpu'\n",
        "model.to(DEVICE)\n",
        "\n",
        "model.eval()\n",
        "with torch.no_grad():\n",
        "    new_im = resize(Image.open('/content/1_16_31.jpg'), (512, 512))\n",
        "    trans_im = t_dict['forward_input'](new_im)\n",
        "    pred = model(torch.unsqueeze(trans_im, 0))"
      ],
      "metadata": {
        "id": "6d5f1kBeVHHO",
        "colab": {
          "base_uri": "https://localhost:8080/"
        },
        "outputId": "0afffcab-ee43-4cc6-bdae-f714a70d6d56"
      },
      "execution_count": null,
      "outputs": [
        {
          "output_type": "stream",
          "name": "stderr",
          "text": [
            "Using cache found in /root/.cache/torch/hub/pytorch_vision_v0.10.0\n"
          ]
        }
      ]
    },
    {
      "cell_type": "code",
      "source": [
        "psimage = PSImage(Path(\"test_02.psi\"))\n",
        "im = Image.fromarray(psimage.get_tile(1, 6, 5))\n",
        "im.save(\"im.jpg\")"
      ],
      "metadata": {
        "id": "tUemB8HjVHCj"
      },
      "execution_count": null,
      "outputs": []
    },
    {
      "cell_type": "code",
      "execution_count": null,
      "metadata": {
        "id": "P3v8GEhrAgbO"
      },
      "outputs": [],
      "source": [
        "DEVICE = 'cuda' if torch.cuda.is_available() else 'cpu'\n",
        "def resize(img, target_shape=(512, 512)):\n",
        "    assert target_shape[0] == target_shape[1]\n",
        "\n",
        "\n",
        "    img = transforms.Resize(target_shape[0])(img)\n",
        "    resize_transform = transforms.Compose([\n",
        "        transforms.CenterCrop(target_shape[0]),\n",
        "    ])\n",
        "\n",
        "    return resize_transform(img)\n",
        "\n",
        "def make_mask(psim, shape, scale, classifier=None):\n",
        "    classifier.eval()\n",
        "    with torch.no_grad():\n",
        "        t_dict = {\n",
        "            \"forward_input\": transforms.Compose([\n",
        "                transforms.PILToTensor(),\n",
        "                transforms.Lambda(lambda x: x.float().to(DEVICE)/255.0),\n",
        "                transforms.Normalize(mean=[0.485, 0.456, 0.406],\n",
        "                                            std=[0.229, 0.224, 0.225])\n",
        "            ]),\n",
        "            \"backward_input\": transforms.Compose([\n",
        "                transforms.Normalize(mean=[0.0, 0.0, 0.0],\n",
        "                                            std=[1./0.229, 1./0.224, 1./0.225]),\n",
        "                transforms.Normalize(mean=[-0.485, -0.456, -0.406],\n",
        "                                            std=[1.0, 1.0, 1.0]),\n",
        "                transforms.Lambda(lambda x: x.permute(1, 2, 0).cpu().numpy())\n",
        "            ]),\n",
        "        }\n",
        "\n",
        "        layers = psim.layout.layers\n",
        "        tile_s = psim.layout.tile_s\n",
        "        numbers = list(range(len(layers)))\n",
        "        layers = [1 << i for i in numbers]\n",
        "        layerTOnumber = dict(zip(numbers, layers))\n",
        "\n",
        "        layer = layers[0]\n",
        "        height_pixels, width_pixels = psim.layer_size(layer)\n",
        "        height, width = math.ceil(height_pixels / tile_s), math.ceil(width_pixels / tile_s)\n",
        "        print(height, width)\n",
        "\n",
        "        mask = np.zeros(shape)\n",
        "        scip_y = 0\n",
        "        for y in tqdm(range(height), total=height):\n",
        "            scip_x = 0\n",
        "            scip = 0\n",
        "            for x in range(width):\n",
        "                image = psim.get_tile(layerTOnumber[0], y, x)\n",
        "                new_im = resize(Image.fromarray(image), (512, 512))\n",
        "                trans_im = t_dict['forward_input'](new_im)\n",
        "                pred = classifier(torch.unsqueeze(trans_im, 0))\n",
        "                mask_part = np.full((int(image.shape[0] * scale),int(image.shape[1] * scale),3), pred.argmax().cpu().detach().numpy())\n",
        "                mask[scip_y:scip_y + mask_part.shape[0], scip_x:scip_x + mask_part.shape[1]] = mask_part\n",
        "                scip_x += mask_part.shape[1]\n",
        "                scip = mask_part.shape[0]\n",
        "            scip_y += scip\n",
        "    return mask\n",
        "\n"
      ]
    },
    {
      "cell_type": "code",
      "execution_count": null,
      "metadata": {
        "id": "Rtvm2xypCKdM",
        "colab": {
          "base_uri": "https://localhost:8080/"
        },
        "outputId": "2712bc01-294c-4cec-d557-8169dcd907d9"
      },
      "outputs": [
        {
          "output_type": "stream",
          "name": "stderr",
          "text": [
            "Using cache found in /root/.cache/torch/hub/pytorch_vision_v0.10.0\n"
          ]
        },
        {
          "output_type": "stream",
          "name": "stdout",
          "text": [
            "(3594, 4731, 3)\n"
          ]
        }
      ],
      "source": [
        "model = torch.hub.load('pytorch/vision:v0.10.0', 'resnet34', weights=None)\n",
        "model.fc = nn.Linear(512, 2)\n",
        "model.load_state_dict(torch.load(\"visualization/best_model.pth\"))\n",
        "model.to(DEVICE)\n",
        "p = Path(\"visualization/test_01.psi\")\n",
        "with PSImage(p) as psim:\n",
        "    psim.export_simple(Path(\"data/out/export.jpg\"), scale=0.125)\n",
        "    image = io.imread(\"data/out/export.jpg\")\n",
        "    print(image.shape)\n",
        "    #mask = make_mask(psim, image.shape, 0.125, model)\n",
        "    #plt.imshow(image)\n",
        "    #plt.imshow(mask, alpha=0.5)\n",
        "    #plt.show()"
      ]
    },
    {
      "cell_type": "code",
      "execution_count": null,
      "metadata": {
        "colab": {
          "base_uri": "https://localhost:8080/",
          "height": 452
        },
        "id": "3XxEmVK-GDzb",
        "outputId": "23822ba3-addf-4b68-aa1b-b11c175e1359"
      },
      "outputs": [
        {
          "data": {
            "text/plain": [
              "<matplotlib.image.AxesImage at 0x7c8bb3fe80d0>"
            ]
          },
          "execution_count": 5,
          "metadata": {},
          "output_type": "execute_result"
        },
        {
          "data": {
            "image/png": "[encoded data removed]",
            "text/plain": [
              "<Figure size 640x480 with 1 Axes>"
            ]
          },
          "metadata": {},
          "output_type": "display_data"
        }
      ],
      "source": [
        "plt.imshow(mask)"
      ]
    },
    {
      "cell_type": "code",
      "execution_count": null,
      "metadata": {
        "id": "X837fCVO8Ks3"
      },
      "outputs": [],
      "source": [
        "def make_mask(psim, size, stride, classifier):\n",
        "    classifier.eval()\n",
        "    with torch.no_grad():\n",
        "        t_dict = {\n",
        "            \"forward_input\": transforms.Compose([\n",
        "                transforms.PILToTensor(),\n",
        "                transforms.Lambda(lambda x: x.float().to(DEVICE)/255.0),\n",
        "                transforms.Normalize(mean=[0.485, 0.456, 0.406],\n",
        "                                            std=[0.229, 0.224, 0.225])\n",
        "            ]),\n",
        "            \"backward_input\": transforms.Compose([\n",
        "                transforms.Normalize(mean=[0.0, 0.0, 0.0],\n",
        "                                            std=[1./0.229, 1./0.224, 1./0.225]),\n",
        "                transforms.Normalize(mean=[-0.485, -0.456, -0.406],\n",
        "                                            std=[1.0, 1.0, 1.0]),\n",
        "                transforms.Lambda(lambda x: x.permute(1, 2, 0).cpu().numpy())\n",
        "            ]),\n",
        "        }\n",
        "        layers = psim.layout.layers\n",
        "        #tile_s = psim.layout.tile_s\n",
        "        numbers = list(range(len(layers)))\n",
        "        layers = [1 << i for i in numbers]\n",
        "        layerTOnumber = dict(zip(numbers, layers))\n",
        "\n",
        "        layer = layers[0]\n",
        "        height_pixels, width_pixels = psim.layer_size(layer)\n",
        "        height, width = math.ceil(height_pixels / stride), math.ceil(width_pixels / stride)\n",
        "\n",
        "\n",
        "        window_size = (size // stride)\n",
        "\n",
        "        xv, yv = np.meshgrid(np.arange(width), np.arange(height))\n",
        "        #print(height, width)\n",
        "        #print(xv.shape, yv.shape)\n",
        "        coords = np.zeros((3, height, width), dtype=np.uint8)\n",
        "        #print(coords.shape)\n",
        "        mask = np.full((window_size ** 2, height, width), np.nan)\n",
        "        coords[1, ...] = yv\n",
        "        coords[2, ...] = xv\n",
        "        print(coords)\n",
        "        stride_y = 0\n",
        "        stride_x = 0\n",
        "        next = 0\n",
        "        print(mask.shape)\n",
        "        for patch in tqdm(psim.patch_gen_dense(size, stride=stride)):\n",
        "\n",
        "            if patch.pos_y / stride > stride_y:\n",
        "                stride_x = 0\n",
        "                stride_y += 1\n",
        "            #print(stride_x, stride_y)\n",
        "            data = patch.data\n",
        "            patch_height, patch_width, C = data.shape\n",
        "            size_y, size_x = math.ceil(patch_height / stride), math.ceil(patch_width / stride)\n",
        "            slic = np.s_[:, stride_y:stride_y + size_y,stride_x:stride_x + size_x]\n",
        "            cor = coords[slic]\n",
        "            ravel_cor = np.zeros((3, cor[0].size), dtype=np.uint8)\n",
        "            ravel_cor[0] = cor[0].ravel()\n",
        "            ravel_cor[1] = cor[1].ravel()\n",
        "            ravel_cor[2] = cor[2].ravel()\n",
        "\n",
        "            stride_x += 1\n",
        "            #print(mask[ravel_cor[0], ravel_cor[1], ravel_cor[2]])\n",
        "            new_im = resize(Image.fromarray(data), (512, 512))\n",
        "            trans_im = t_dict['forward_input'](new_im)\n",
        "            pred = classifier(torch.unsqueeze(trans_im, 0))\n",
        "            mask[ravel_cor[0], ravel_cor[1], ravel_cor[2]] = pred.argmax().cpu().detach().numpy()\n",
        "            #print(mask[ravel_cor[0], ravel_cor[1], ravel_cor[2]])\n",
        "            cor[0] += 1\n",
        "            #print(ravel_cor)\n",
        "            #print(cor)\n",
        "            #print(coords)\n",
        "            #mask = np.full((math.ceil(patch_height / stride), math.ceil(patch_width / stride)), np.random.choice([0,1]))\n",
        "\n",
        "            #print(patch.pos_x / stride, patch.pos_y / stride)\n",
        "            #print(mask)\n",
        "\n",
        "\n",
        "            #image_height // stride\n",
        "            #print(patch.data.shape)\n",
        "            #size1 = window_size\n",
        "            #window = np.random.choice([0, 1], size=())\n",
        "        delitel = (~np.isnan(mask)).sum(axis=0)\n",
        "        print(delitel)\n",
        "        mask = np.where(np.isnan(mask), 0, mask)\n",
        "        print(mask)\n",
        "\n",
        "        return mask.sum(axis=0) / delitel"
      ]
    },
    {
      "cell_type": "code",
      "execution_count": null,
      "metadata": {
        "id": "bnMqKiZNeJwi"
      },
      "outputs": [],
      "source": [
        "def make_heatmap(psim, shape, mask, scale, stride):\n",
        "    layers = psim.layout.layers\n",
        "    tile_s = psim.layout.tile_s\n",
        "    numbers = list(range(len(layers)))\n",
        "    layers = [1 << i for i in numbers]\n",
        "    layerTOnumber = dict(zip(numbers, layers))\n",
        "\n",
        "    heatmap = np.zeros(shape)\n",
        "\n",
        "    layer = layers[0]\n",
        "    height_pixels, width_pixels = psim.layer_size(layer)\n",
        "    height, width = math.ceil(height_pixels / tile_s), math.ceil(width_pixels / tile_s)\n",
        "\n",
        "    scip_y = 0\n",
        "    for y in range(mask.shape[0]):\n",
        "        scip_x = 0\n",
        "        scip = 0\n",
        "        for x in range(mask.shape[1]):\n",
        "            heatmap_part = np.full((int(stride * scale),int(stride * scale),3), mask[y][x])\n",
        "            heatmap[scip_y:scip_y + heatmap_part.shape[0], scip_x:scip_x + heatmap_part.shape[1]] = mask[y][x]\n",
        "            scip_x += heatmap_part.shape[1]\n",
        "            scip = heatmap_part.shape[0]\n",
        "        scip_y += scip\n",
        "    return heatmap"
      ]
    },
    {
      "cell_type": "code",
      "execution_count": null,
      "metadata": {
        "id": "Bny3YUju2r9x"
      },
      "outputs": [],
      "source": [
        "model = torch.hub.load('pytorch/vision:v0.10.0', 'resnet34', weights=None)\n",
        "model.fc = nn.Linear(512, 2)\n",
        "model.load_state_dict(torch.load(\"visualization/best_model.pth\", map_location=torch.device('cpu')))\n",
        "model.to(DEVICE)\n",
        "p = Path(\"test_01.psi\")\n",
        "with PSImage(p) as psim:\n",
        "    mask = make_mask(psim, 512, 256, model)\n",
        "    psim.export_simple(Path(\"data/out/export.jpg\"), scale=0.0625)\n",
        "    image = io.imread(\"data/out/export.jpg\")\n",
        "    heatmap = make_heatmap(psim, image.shape, mask, 0.0625, 256)\n",
        "    plt.imshow(image)\n",
        "    plt.imshow(heatmap, alpha=0.5)\n",
        "    plt.show()"
      ]
    },
    {
      "cell_type": "code",
      "source": [
        "with PSImage(p) as psim:\n",
        "    heatmap = make_heatmap(psim, image.shape, mask, 0.0625, 256)\n",
        "    plt.imshow(image)\n",
        "    plt.imshow(heatmap, alpha=0.5)\n",
        "    plt.show()"
      ],
      "metadata": {
        "colab": {
          "base_uri": "https://localhost:8080/",
          "height": 435
        },
        "id": "jKX4-PwSmziq",
        "outputId": "f30da827-1e48-4446-b75e-9b5302b43cd7"
      },
      "execution_count": null,
      "outputs": [
        {
          "output_type": "display_data",
          "data": {
            "text/plain": [
              "<Figure size 640x480 with 1 Axes>"
            ],
            "image/png": "[encoded data removed]"
          },
          "metadata": {}
        }
      ]
    },
    {
      "cell_type": "code",
      "source": [
        "save_mask(heatmap, 'heat2.jpg')"
      ],
      "metadata": {
        "id": "E6bDxIbHkECa"
      },
      "execution_count": null,
      "outputs": []
    }
  ],
  "metadata": {
    "accelerator": "GPU",
    "colab": {
      "provenance": []
    },
    "kernelspec": {
      "display_name": "Python 3",
      "name": "python3"
    },
    "language_info": {
      "name": "python"
    }
  },
  "nbformat": 4,
  "nbformat_minor": 0
}